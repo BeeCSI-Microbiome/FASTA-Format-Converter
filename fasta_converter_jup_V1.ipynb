{
 "cells": [
  {
   "cell_type": "markdown",
   "metadata": {},
   "source": [
    "# FASTA Format Converter "
   ]
  },
  {
   "cell_type": "markdown",
   "metadata": {},
   "source": [
    "The following code is to replace the `Locus_tag` from the Sequence Description with `Genbank_acc`. *Note: Ensure that all the files required are in the same directory*"
   ]
  },
  {
   "cell_type": "markdown",
   "metadata": {},
   "source": [
    "Import packages"
   ]
  },
  {
   "cell_type": "code",
   "execution_count": null,
   "metadata": {},
   "outputs": [],
   "source": [
    "import os\n",
    "import pandas as pd\n",
    "import Bio.SeqIO as sio"
   ]
  },
  {
   "cell_type": "markdown",
   "metadata": {},
   "source": [
    "Regex for GenBank Accession numbers format. Based on the information from this link: https://www.ncbi.nlm.nih.gov/Sequin/acc.html"
   ]
  },
  {
   "cell_type": "code",
   "execution_count": null,
   "metadata": {},
   "outputs": [],
   "source": [
    "#   1 letter + 5 numerals\n",
    "#pattern_1 = r\"^(\\S){1}(\\d){5}$\"\n",
    "\n",
    "#   2 letters + 6 numerals\n",
    "#pattern_2 = r\"^(\\S){2}(\\d){6}$\"\n",
    "\n",
    "#   2 letters + 8 numerals\n",
    "#pattern_3 = r\"^(\\S){2}(\\d){8}$\"\n",
    "\n",
    "#   4 letters + x numerals\n",
    "#pattern_4 = r\"^(\\S){2}(\\d)*\""
   ]
  },
  {
   "cell_type": "markdown",
   "metadata": {},
   "source": [
    "### Part 1: Data Frame"
   ]
  },
  {
   "cell_type": "markdown",
   "metadata": {},
   "source": [
    "**Enter the path to the current directory.** Ensure that the all the file required shows up in the output."
   ]
  },
  {
   "cell_type": "code",
   "execution_count": null,
   "metadata": {},
   "outputs": [],
   "source": [
    "path = os.listdir(path = 'C:/Users/vishwakarmas/Downloads/fasta_format_converter/')\n",
    "print(path)"
   ]
  },
  {
   "cell_type": "markdown",
   "metadata": {},
   "source": [
    "**Enter the file name.** Read and concatenate the sheets into one `dataframe`."
   ]
  },
  {
   "cell_type": "code",
   "execution_count": null,
   "metadata": {},
   "outputs": [],
   "source": [
    "seq_info = pd.concat(pd.read_excel('1-s2.0-S0960982220305868-mmc2.xlsx', sheet_name = None), ignore_index = True)"
   ]
  },
  {
   "cell_type": "markdown",
   "metadata": {},
   "source": [
    "Create 2 `dataframes` without `nan` and `NA`. *`filter_null` - removes any `nan` present in the `Genbank_acc` column.* *`filter_NA` - removes any `NA` present in the `Genbank_acc` column.*"
   ]
  },
  {
   "cell_type": "code",
   "execution_count": null,
   "metadata": {},
   "outputs": [],
   "source": [
    "filter_null = seq_info[seq_info['Genbank_acc'].notnull()]\n",
    "filter_NA = filter_null[~filter_null.Genbank_acc.str.contains(r'\\A(NA){1}\\b', regex = True)]"
   ]
  },
  {
   "cell_type": "markdown",
   "metadata": {},
   "source": [
    "### Part 2: Modify `Genbank_acc` values"
   ]
  },
  {
   "cell_type": "markdown",
   "metadata": {},
   "source": [
    "Create a function to right-pad the cell with 8 zeros if it only has 4 characters."
   ]
  },
  {
   "cell_type": "code",
   "execution_count": null,
   "metadata": {},
   "outputs": [],
   "source": [
    "def applyZeros(genbank_val):\n",
    "    if len(genbank_val) == 4:\n",
    "        return genbank_val.ljust(12, '0')\n",
    "    else:\n",
    "        return genbank_val"
   ]
  },
  {
   "cell_type": "markdown",
   "metadata": {},
   "source": [
    "Apply the function to all cells in the `Genbank_acc` column."
   ]
  },
  {
   "cell_type": "code",
   "execution_count": null,
   "metadata": {},
   "outputs": [],
   "source": [
    "filter_NA_new_col = filter_NA['Genbank_acc'].apply(applyZeros).rename('New_Genbank_acc')"
   ]
  },
  {
   "cell_type": "markdown",
   "metadata": {},
   "source": [
    "**View list of `Locus_tags` included.**"
   ]
  },
  {
   "cell_type": "code",
   "execution_count": null,
   "metadata": {},
   "outputs": [],
   "source": [
    "updated_locus_tags = filter_NA['Locus_tag'].tolist()\n",
    "print(updated_locus_tags)"
   ]
  },
  {
   "cell_type": "markdown",
   "metadata": {},
   "source": [
    "**View `DataFrame` for more information.**"
   ]
  },
  {
   "cell_type": "code",
   "execution_count": null,
   "metadata": {},
   "outputs": [],
   "source": [
    "print(filter_NA)"
   ]
  },
  {
   "cell_type": "markdown",
   "metadata": {},
   "source": [
    "**View `list` of `Locus_tags` not included.**"
   ]
  },
  {
   "cell_type": "code",
   "execution_count": null,
   "metadata": {},
   "outputs": [],
   "source": [
    "not_included = seq_info[~seq_info['Locus_tag'].isin(filter_NA['Locus_tag'])]\n",
    "print(not_included['Locus_tag'].tolist())"
   ]
  },
  {
   "cell_type": "markdown",
   "metadata": {},
   "source": [
    "**View `DataFrame` for more information.**"
   ]
  },
  {
   "cell_type": "code",
   "execution_count": null,
   "metadata": {},
   "outputs": [],
   "source": [
    "print(not_included)"
   ]
  },
  {
   "cell_type": "markdown",
   "metadata": {},
   "source": [
    "Concatenate the new `Series` to the currently existing `DataFrame`."
   ]
  },
  {
   "cell_type": "code",
   "execution_count": null,
   "metadata": {},
   "outputs": [],
   "source": [
    "updated_seq_info = pd.concat([filter_NA, filter_NA_new_col], axis = 1)"
   ]
  },
  {
   "cell_type": "markdown",
   "metadata": {},
   "source": [
    "Select `New_Genbank_acc` and `Locus_tag` columns from the DataFrame into a `Dictionary`"
   ]
  },
  {
   "cell_type": "code",
   "execution_count": null,
   "metadata": {},
   "outputs": [],
   "source": [
    "dict_filter_NA = pd.Series(updated_seq_info.New_Genbank_acc.values, index = updated_seq_info.Locus_tag).to_dict()"
   ]
  },
  {
   "cell_type": "markdown",
   "metadata": {},
   "source": [
    "### Part 3: Converting"
   ]
  },
  {
   "cell_type": "markdown",
   "metadata": {},
   "source": [
    "Enter the `fasta` file and create a new file for the corrected `fasta` file. Use the `Dictionary` to replace matched Keys (`Locus_tag`) to Values (`New_Genbank_acc`)."
   ]
  },
  {
   "cell_type": "code",
   "execution_count": null,
   "metadata": {},
   "outputs": [],
   "source": [
    "with open('Sample_fasta_file.txt', 'r') as original, open('New_fasta_file.txt', 'w') as corrected:\n",
    "    for seq_record in sio.parse(original, 'fasta'):\n",
    "        if seq_record.id in dict_filter_NA:\n",
    "            seq_record.id = seq_record.description = dict_filter_NA[seq_record.id]\n",
    "        sio.write(seq_record, corrected, 'fasta')"
   ]
  }
 ],
 "metadata": {
  "kernelspec": {
   "display_name": "Python 3",
   "language": "python",
   "name": "python3"
  },
  "language_info": {
   "codemirror_mode": {
    "name": "ipython",
    "version": 3
   },
   "file_extension": ".py",
   "mimetype": "text/x-python",
   "name": "python",
   "nbconvert_exporter": "python",
   "pygments_lexer": "ipython3",
   "version": "3.7.6"
  }
 },
 "nbformat": 4,
 "nbformat_minor": 4
}
